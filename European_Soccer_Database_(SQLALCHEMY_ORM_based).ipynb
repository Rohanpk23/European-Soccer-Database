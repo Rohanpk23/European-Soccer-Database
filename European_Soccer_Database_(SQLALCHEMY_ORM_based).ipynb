{
  "nbformat": 4,
  "nbformat_minor": 0,
  "metadata": {
    "colab": {
      "name": "European Soccer Database (SQLALCHEMY ORM based).ipynb",
      "provenance": [],
      "mount_file_id": "19MQxTBwvbs5N9AsapYdsI7BBaJa_knA2",
      "authorship_tag": "ABX9TyM0TmxQlFQl7eRc7PmeQVcW",
      "include_colab_link": true
    },
    "kernelspec": {
      "name": "python3",
      "display_name": "Python 3"
    }
  },
  "cells": [
    {
      "cell_type": "markdown",
      "metadata": {
        "id": "view-in-github",
        "colab_type": "text"
      },
      "source": [
        "<a href=\"https://colab.research.google.com/github/Rohanpk23/European-Soccer-Database/blob/master/European_Soccer_Database_(SQLALCHEMY_ORM_based).ipynb\" target=\"_parent\"><img src=\"https://colab.research.google.com/assets/colab-badge.svg\" alt=\"Open In Colab\"/></a>"
      ]
    },
    {
      "cell_type": "markdown",
      "metadata": {
        "id": "u4BR2PylD5R1",
        "colab_type": "text"
      },
      "source": [
        "S1 - Connecting to the Google drive"
      ]
    },
    {
      "cell_type": "code",
      "metadata": {
        "id": "XntI30dcde8w",
        "colab_type": "code",
        "colab": {
          "base_uri": "https://localhost:8080/",
          "height": 35
        },
        "outputId": "b4bcfc13-2ac7-4297-9894-7fde08e36328"
      },
      "source": [
        "#Connecting to google drive for interacting with the sqlite database file\n",
        "from google.colab import drive\n",
        "drive.mount('/content/drive')"
      ],
      "execution_count": 51,
      "outputs": [
        {
          "output_type": "stream",
          "text": [
            "Drive already mounted at /content/drive; to attempt to forcibly remount, call drive.mount(\"/content/drive\", force_remount=True).\n"
          ],
          "name": "stdout"
        }
      ]
    },
    {
      "cell_type": "markdown",
      "metadata": {
        "id": "hV5gwAMaEADR",
        "colab_type": "text"
      },
      "source": [
        "S2 - Using the interface (engine) to connect with the sqlite database & listing all tables in the database file"
      ]
    },
    {
      "cell_type": "code",
      "metadata": {
        "id": "ApneNlateaTw",
        "colab_type": "code",
        "colab": {}
      },
      "source": [
        "#engine is the common interface to connect to the local database\n",
        "from sqlalchemy import create_engine, MetaData, Table, select, and_, or_, desc, func, case\n",
        "\n",
        "import pandas as pd\n",
        "\n",
        "import matplotlib.pyplot as plt\n",
        "\n",
        "#Gets the metadata of the tables\n",
        "metadata = MetaData() \n",
        "\n",
        "#Creating engine for the local file; sqlite:/// is the driver and football.sqite is the sqlite file\n",
        "engine = create_engine('sqlite:////content/drive/My Drive/Colab Notebooks/football.sqlite')\n",
        "\n",
        "#Connection established to access and manipulate data in database\n",
        "connection = engine.connect()"
      ],
      "execution_count": 52,
      "outputs": []
    },
    {
      "cell_type": "markdown",
      "metadata": {
        "id": "f-fS8kk0XZwv",
        "colab_type": "text"
      },
      "source": [
        "Loading all the tables in schema"
      ]
    },
    {
      "cell_type": "code",
      "metadata": {
        "id": "nD6MwHz7e07V",
        "colab_type": "code",
        "colab": {
          "base_uri": "https://localhost:8080/",
          "height": 35
        },
        "outputId": "1b2c4379-ad8f-409e-9087-e8cc874203b3"
      },
      "source": [
        "#All tables present in the database\n",
        "print(engine.table_names())"
      ],
      "execution_count": 53,
      "outputs": [
        {
          "output_type": "stream",
          "text": [
            "['Country', 'League', 'Match', 'Player', 'Player_Attributes', 'Team', 'Team_Attributes', 'sqlite_sequence']\n"
          ],
          "name": "stdout"
        }
      ]
    },
    {
      "cell_type": "code",
      "metadata": {
        "id": "0c9x7AC3ld9R",
        "colab_type": "code",
        "colab": {
          "base_uri": "https://localhost:8080/",
          "height": 73
        },
        "outputId": "b49ca846-2ae8-4ce5-80fe-058e4a70f45a"
      },
      "source": [
        "# Creating a reflection of the tables\n",
        "player = Table('player', metadata, autoload = True, autoload_with = engine)\n",
        "match = Table('match', metadata, autoload = True, autoload_with = engine)\n",
        "team = Table('team', metadata, autoload = True, autoload_with = engine)\n",
        "\n",
        "print(player.columns.keys())\n",
        "print(repr(player))"
      ],
      "execution_count": 94,
      "outputs": [
        {
          "output_type": "stream",
          "text": [
            "['id', 'player_api_id', 'player_name', 'player_fifa_api_id', 'birthday', 'height', 'weight']\n",
            "Table('player', MetaData(bind=None), Column('id', INTEGER(), table=<player>, primary_key=True, nullable=False), Column('player_api_id', INTEGER(), table=<player>), Column('player_name', TEXT(), table=<player>), Column('player_fifa_api_id', INTEGER(), table=<player>), Column('birthday', TEXT(), table=<player>), Column('height', INTEGER(), table=<player>), Column('weight', INTEGER(), table=<player>), schema=None)\n"
          ],
          "name": "stdout"
        }
      ]
    },
    {
      "cell_type": "markdown",
      "metadata": {
        "id": "tKRq49LN5-GA",
        "colab_type": "text"
      },
      "source": [
        "Warmup practice"
      ]
    },
    {
      "cell_type": "code",
      "metadata": {
        "id": "irCY1Xm-Y5La",
        "colab_type": "code",
        "colab": {
          "base_uri": "https://localhost:8080/",
          "height": 217
        },
        "outputId": "0d92220e-fa28-4541-bedd-4cccfbd85a1c"
      },
      "source": [
        "# stmt object has the select statement\n",
        "stmt2 = select([player.columns.player_name])#, player.columns.height, player.columns.weight])\n",
        "stmt2 = stmt2.where(\n",
        "    and_(player.columns.height > 200, player.columns.weight > 200))\n",
        "\n",
        "# connection.execute() method gives the ResultProxy object and fetchall() method gives the ResultSet object which is a list\n",
        "results = connection.execute(stmt2).fetchmany(size = 50)\n",
        "\n",
        "\n",
        "#Getting the records\n",
        "for records in results:\n",
        "  print(records.player_name) #, records.height, records.weight) # Data is retrieved column wise for every tuple stored in records"
      ],
      "execution_count": 55,
      "outputs": [
        {
          "output_type": "stream",
          "text": [
            "Abdoul Ba\n",
            "Bogdan Milic\n",
            "Costel Pantilimon\n",
            "Jurgen Wevers\n",
            "Kristof van Hout\n",
            "Nikola Zigic\n",
            "Pietro Marino\n",
            "Stefan Maierhofer\n",
            "Vanja Milinkovic-Savic\n",
            "Wojciech Kaczmarek\n",
            "Zeljko Kalac\n"
          ],
          "name": "stdout"
        }
      ]
    },
    {
      "cell_type": "code",
      "metadata": {
        "id": "keCnj778AnTj",
        "colab_type": "code",
        "colab": {}
      },
      "source": [
        "for records in results:\n",
        "  print(results[:20]) # This retrieves tuple wise "
      ],
      "execution_count": null,
      "outputs": []
    },
    {
      "cell_type": "markdown",
      "metadata": {
        "id": "-eIT5ma02NwI",
        "colab_type": "text"
      },
      "source": [
        "Each season's count of total home goals and away goals scored"
      ]
    },
    {
      "cell_type": "code",
      "metadata": {
        "id": "m_IxU0iqRv44",
        "colab_type": "code",
        "cellView": "code",
        "colab": {}
      },
      "source": [
        "# SUM aggregation\n",
        "Home_Tot = func.sum(match.columns.home_team_goal).label('Home Goals')\n",
        "Away_Tot = func.sum(match.columns.away_team_goal).label('Away Goals')\n",
        "\n",
        "# SUM aggregation included in SELECT clause\n",
        "stmt3 = select([match.columns.season, Home_Tot, \n",
        "                Away_Tot, (Home_Tot - Away_Tot).label('Home - Away')])  \n",
        "\n",
        "# GROUP BY clause\n",
        "stmt3 = stmt3.group_by(match.columns.season)\n",
        "\n",
        "# ORDER BY clause\n",
        "stmt3_ordered= stmt3.order_by('Home Goals')   # Take care while ordering by an aliased columns"
      ],
      "execution_count": 89,
      "outputs": []
    },
    {
      "cell_type": "code",
      "metadata": {
        "id": "IWIKR948TibH",
        "colab_type": "code",
        "colab": {}
      },
      "source": [
        "# Executing gives ResultSet Object (list containing tuples/rows)\n",
        "results = connection.execute(stmt3_ordered).fetchall()\n",
        "\n",
        "# Converting the ResultSet to a DataFrame\n",
        "df3 = pd.DataFrame(results)\n",
        "df3.columns = results[0].keys()\n",
        "print(df3)"
      ],
      "execution_count": null,
      "outputs": []
    },
    {
      "cell_type": "markdown",
      "metadata": {
        "id": "-2yZyMkKQNfu",
        "colab_type": "text"
      },
      "source": [
        "1. Want to know the home perfomance of the teams seasonwise ? Use this table"
      ]
    },
    {
      "cell_type": "markdown",
      "metadata": {
        "id": "5tV6CyZU6H0P",
        "colab_type": "text"
      },
      "source": [
        "1.1. SQL statements"
      ]
    },
    {
      "cell_type": "code",
      "metadata": {
        "id": "r93CLnxXcqGa",
        "colab_type": "code",
        "colab": {}
      },
      "source": [
        "# CASE statement\n",
        "cased_H= case(\n",
        "             [\n",
        "              (match.c.home_team_goal > match.c.away_team_goal, 'Win'),\n",
        "              (match.c.home_team_goal < match.c.away_team_goal, 'Defeat')\n",
        "             ],\n",
        "              else_ = 'Tie'\n",
        "            ).label('Outcome')\n",
        "\n",
        "# CASE statement included in the select clause\n",
        "stmt_H = select([match.columns.season, \n",
        "                 team.columns.team_long_name.label('Home Team'), \n",
        "                 match.columns.home_team_goal.label('Score'),\n",
        "                 match.columns.away_team_goal.label('Opponent Score'),\n",
        "                 cased_H])\n",
        "\n",
        "# INNER JOIN CLAUSE\n",
        "stmt_H_Teams = stmt_H.select_from(\n",
        "                               match.join(team, match.c.home_team_api_id == team.c.team_api_id)\n",
        "                              )  \n",
        "# Sorting based on Score in descending order\n",
        "stmt_H_Teams = stmt_H_Teams.order_by(desc('Score')) "
      ],
      "execution_count": 90,
      "outputs": []
    },
    {
      "cell_type": "markdown",
      "metadata": {
        "id": "NMgrQQrK6LKt",
        "colab_type": "text"
      },
      "source": [
        "1.2. Execution and conversion to DataFrame"
      ]
    },
    {
      "cell_type": "code",
      "metadata": {
        "id": "GbdHyqTJ4e_q",
        "colab_type": "code",
        "colab": {}
      },
      "source": [
        "# Executing gives ResultSet Object (list containing tuples/rows)\n",
        "result_H= connection.execute(stmt_H_Teams).fetchmany(size = 20)\n",
        "\n",
        "# Converting the ResultSet to a DataFrame\n",
        "df_H = pd.DataFrame(result_H)\n",
        "df_H.columns = result[0].keys()\n",
        "print('\\n------------------------- Top 20 Home Perfomers ----------------------------\\n')\n",
        "print(df_H[:])"
      ],
      "execution_count": null,
      "outputs": []
    },
    {
      "cell_type": "markdown",
      "metadata": {
        "id": "IUrkxJah1CYf",
        "colab_type": "text"
      },
      "source": [
        "2. Want to know the Overseas perfomance of the teams seasonwise ? Use this table"
      ]
    },
    {
      "cell_type": "markdown",
      "metadata": {
        "id": "TUTIQGFN7Qgw",
        "colab_type": "text"
      },
      "source": [
        "2.1. SQL statements"
      ]
    },
    {
      "cell_type": "code",
      "metadata": {
        "id": "8TfOVBUOapOx",
        "colab_type": "code",
        "colab": {}
      },
      "source": [
        "# CASE statement\n",
        "cased_A = case(\n",
        "             [\n",
        "              (match.c.away_team_goal > match.c.home_team_goal, 'Win'),\n",
        "              (match.c.away_team_goal < match.c.home_team_goal, 'Loss')\n",
        "             ],\n",
        "              else_ = 'Tie'\n",
        "            ).label('Outcome')\n",
        "\n",
        "# CASE statement included in the select clause\n",
        "stmt_A = select([match.columns.season, \n",
        "                team.columns.team_long_name.label('Away Team'), \n",
        "                match.columns.away_team_goal.label('Score'),\n",
        "                match.columns.home_team_goal.label('Opponent Score'),\n",
        "                cased_A])\n",
        "\n",
        "# INNER JOIN CLAUSE\n",
        "stmt_A_Teams = stmt_A.select_from(\n",
        "                               match.join(team, match.c.away_team_api_id == team.c.team_api_id)\n",
        "                              )  \n",
        "\n",
        "# Sorting based on Score in descending order\n",
        "stmt_A_Teams = stmt_A_Teams.order_by(desc('Score')) "
      ],
      "execution_count": 92,
      "outputs": []
    },
    {
      "cell_type": "markdown",
      "metadata": {
        "id": "lwEgb5SX7C8K",
        "colab_type": "text"
      },
      "source": [
        "2.2. Execution and conversion to DataFrame"
      ]
    },
    {
      "cell_type": "code",
      "metadata": {
        "id": "522xiha1OV2G",
        "colab_type": "code",
        "colab": {}
      },
      "source": [
        "# Executing gives ResultSet Object (list containing tuples/rows)\n",
        "result_A = connection.execute(stmt_A_Teams).fetchmany(size = 20)\n",
        "\n",
        "# Converting the ResultSet to a DataFrame\n",
        "df_A = pd.DataFrame(result_A)\n",
        "df_A.columns = result[0].keys()\n",
        "print('\\n------------------------- Top 20 Overseas Perfomers ------------------------\\n')\n",
        "print(df_A[:])"
      ],
      "execution_count": null,
      "outputs": []
    }
  ]
}