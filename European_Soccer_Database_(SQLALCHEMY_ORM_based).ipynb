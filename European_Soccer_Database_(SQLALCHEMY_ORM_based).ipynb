{
  "nbformat": 4,
  "nbformat_minor": 0,
  "metadata": {
    "colab": {
      "name": "European Soccer Database (SQLALCHEMY ORM based).ipynb",
      "provenance": [],
      "mount_file_id": "19MQxTBwvbs5N9AsapYdsI7BBaJa_knA2",
      "authorship_tag": "ABX9TyM6I/qhCwtTvAp2EabuiCjN",
      "include_colab_link": true
    },
    "kernelspec": {
      "name": "python3",
      "display_name": "Python 3"
    }
  },
  "cells": [
    {
      "cell_type": "markdown",
      "metadata": {
        "id": "view-in-github",
        "colab_type": "text"
      },
      "source": [
        "<a href=\"https://colab.research.google.com/github/Rohanpk23/European-Soccer-Database/blob/master/European_Soccer_Database_(SQLALCHEMY_ORM_based).ipynb\" target=\"_parent\"><img src=\"https://colab.research.google.com/assets/colab-badge.svg\" alt=\"Open In Colab\"/></a>"
      ]
    },
    {
      "cell_type": "markdown",
      "metadata": {
        "id": "u4BR2PylD5R1",
        "colab_type": "text"
      },
      "source": [
        "S1 - Connecting to the Google drive"
      ]
    },
    {
      "cell_type": "code",
      "metadata": {
        "id": "XntI30dcde8w",
        "colab_type": "code",
        "colab": {
          "base_uri": "https://localhost:8080/",
          "height": 35
        },
        "outputId": "8e45efc9-7694-4a28-d580-7caaf9c924f1"
      },
      "source": [
        "#Connecting to google drive for interacting with the sqlite database file\n",
        "from google.colab import drive\n",
        "drive.mount('/content/drive')"
      ],
      "execution_count": null,
      "outputs": [
        {
          "output_type": "stream",
          "text": [
            "Drive already mounted at /content/drive; to attempt to forcibly remount, call drive.mount(\"/content/drive\", force_remount=True).\n"
          ],
          "name": "stdout"
        }
      ]
    },
    {
      "cell_type": "markdown",
      "metadata": {
        "id": "hV5gwAMaEADR",
        "colab_type": "text"
      },
      "source": [
        "S2 - Using the interface (engine) to connect with the sqlite database & listing all tables in the database file"
      ]
    },
    {
      "cell_type": "code",
      "metadata": {
        "id": "ApneNlateaTw",
        "colab_type": "code",
        "colab": {}
      },
      "source": [
        "#engine is the common interface to connect to the local database\n",
        "from sqlalchemy import create_engine, MetaData, Table, select, and_, or_, desc, func, text\n",
        "\n",
        "import pandas as pd\n",
        "\n",
        "import matplotlib.pyplot as plt\n",
        "\n",
        "#Gets the metadata of the tables\n",
        "metadata = MetaData() \n",
        "\n",
        "#Creating engine for the local file; sqlite:/// is the driver and football.sqite is the sqlite file\n",
        "engine = create_engine('sqlite:////content/drive/My Drive/Colab Notebooks/football.sqlite')\n",
        "\n",
        "#Connection established to access and manipulate data in database\n",
        "connection = engine.connect()"
      ],
      "execution_count": null,
      "outputs": []
    },
    {
      "cell_type": "markdown",
      "metadata": {
        "id": "f-fS8kk0XZwv",
        "colab_type": "text"
      },
      "source": [
        "Loading all the tables in schema"
      ]
    },
    {
      "cell_type": "code",
      "metadata": {
        "id": "nD6MwHz7e07V",
        "colab_type": "code",
        "colab": {
          "base_uri": "https://localhost:8080/",
          "height": 35
        },
        "outputId": "23a5ef0a-df1a-407d-a63d-07dc21b2c005"
      },
      "source": [
        "#All tables present in the database\n",
        "print(engine.table_names())"
      ],
      "execution_count": null,
      "outputs": [
        {
          "output_type": "stream",
          "text": [
            "['Country', 'League', 'Match', 'Player', 'Player_Attributes', 'Team', 'Team_Attributes', 'sqlite_sequence']\n"
          ],
          "name": "stdout"
        }
      ]
    },
    {
      "cell_type": "code",
      "metadata": {
        "id": "0c9x7AC3ld9R",
        "colab_type": "code",
        "colab": {
          "base_uri": "https://localhost:8080/",
          "height": 73
        },
        "outputId": "d72cc6b3-5f16-40ad-e6f9-28fbf6025303"
      },
      "source": [
        "# Creating a reflection of the table match\n",
        "player = Table('player', metadata, autoload = True, autoload_with = engine)\n",
        "print(player.columns.keys())\n",
        "print(repr(player))"
      ],
      "execution_count": null,
      "outputs": [
        {
          "output_type": "stream",
          "text": [
            "['id', 'player_api_id', 'player_name', 'player_fifa_api_id', 'birthday', 'height', 'weight']\n",
            "Table('player', MetaData(bind=None), Column('id', INTEGER(), table=<player>, primary_key=True, nullable=False), Column('player_api_id', INTEGER(), table=<player>), Column('player_name', TEXT(), table=<player>), Column('player_fifa_api_id', INTEGER(), table=<player>), Column('birthday', TEXT(), table=<player>), Column('height', INTEGER(), table=<player>), Column('weight', INTEGER(), table=<player>), schema=None)\n"
          ],
          "name": "stdout"
        }
      ]
    },
    {
      "cell_type": "markdown",
      "metadata": {
        "id": "MLVzbr2RXOK8",
        "colab_type": "text"
      },
      "source": [
        "# Pythonic way of accessing any table's data"
      ]
    },
    {
      "cell_type": "markdown",
      "metadata": {
        "id": "7fOes6dRZzH9",
        "colab_type": "text"
      },
      "source": [
        "Remember to follow the execution flow of SQL (Not a rigid rule)"
      ]
    },
    {
      "cell_type": "code",
      "metadata": {
        "id": "irCY1Xm-Y5La",
        "colab_type": "code",
        "colab": {
          "base_uri": "https://localhost:8080/",
          "height": 217
        },
        "outputId": "c43477c7-9ac1-4476-e614-ae2f3e805820"
      },
      "source": [
        "# stmt object has the select statement\n",
        "stmt2 = select([player.columns.player_name])#, player.columns.height, player.columns.weight])\n",
        "stmt2 = stmt2.where(\n",
        "    and_(player.columns.height > 200, player.columns.weight > 200))\n",
        "\n",
        "# connection.execute() method gives the ResultProxy object and fetchall() method gives the ResultSet object which is a list\n",
        "results = connection.execute(stmt2).fetchmany(size = 50)\n",
        "\n",
        "\n",
        "#Getting the records\n",
        "for records in results:\n",
        "  print(records.player_name) #, records.height, records.weight) # Data is retrieved column wise for every tuple stored in records"
      ],
      "execution_count": null,
      "outputs": [
        {
          "output_type": "stream",
          "text": [
            "Abdoul Ba\n",
            "Bogdan Milic\n",
            "Costel Pantilimon\n",
            "Jurgen Wevers\n",
            "Kristof van Hout\n",
            "Nikola Zigic\n",
            "Pietro Marino\n",
            "Stefan Maierhofer\n",
            "Vanja Milinkovic-Savic\n",
            "Wojciech Kaczmarek\n",
            "Zeljko Kalac\n"
          ],
          "name": "stdout"
        }
      ]
    },
    {
      "cell_type": "code",
      "metadata": {
        "id": "keCnj778AnTj",
        "colab_type": "code",
        "colab": {
          "base_uri": "https://localhost:8080/",
          "height": 237
        },
        "outputId": "528fa0c7-8d13-4252-b2f8-1704ba828f6b"
      },
      "source": [
        "for records in results:\n",
        "  print(results[:20]) # This retrieves tuple wise "
      ],
      "execution_count": null,
      "outputs": [
        {
          "output_type": "stream",
          "text": [
            "[('Abdoul Ba',), ('Bogdan Milic',), ('Costel Pantilimon',), ('Jurgen Wevers',), ('Kristof van Hout',), ('Nikola Zigic',), ('Pietro Marino',), ('Stefan Maierhofer',), ('Vanja Milinkovic-Savic',), ('Wojciech Kaczmarek',), ('Zeljko Kalac',)]\n",
            "[('Abdoul Ba',), ('Bogdan Milic',), ('Costel Pantilimon',), ('Jurgen Wevers',), ('Kristof van Hout',), ('Nikola Zigic',), ('Pietro Marino',), ('Stefan Maierhofer',), ('Vanja Milinkovic-Savic',), ('Wojciech Kaczmarek',), ('Zeljko Kalac',)]\n",
            "[('Abdoul Ba',), ('Bogdan Milic',), ('Costel Pantilimon',), ('Jurgen Wevers',), ('Kristof van Hout',), ('Nikola Zigic',), ('Pietro Marino',), ('Stefan Maierhofer',), ('Vanja Milinkovic-Savic',), ('Wojciech Kaczmarek',), ('Zeljko Kalac',)]\n",
            "[('Abdoul Ba',), ('Bogdan Milic',), ('Costel Pantilimon',), ('Jurgen Wevers',), ('Kristof van Hout',), ('Nikola Zigic',), ('Pietro Marino',), ('Stefan Maierhofer',), ('Vanja Milinkovic-Savic',), ('Wojciech Kaczmarek',), ('Zeljko Kalac',)]\n",
            "[('Abdoul Ba',), ('Bogdan Milic',), ('Costel Pantilimon',), ('Jurgen Wevers',), ('Kristof van Hout',), ('Nikola Zigic',), ('Pietro Marino',), ('Stefan Maierhofer',), ('Vanja Milinkovic-Savic',), ('Wojciech Kaczmarek',), ('Zeljko Kalac',)]\n",
            "[('Abdoul Ba',), ('Bogdan Milic',), ('Costel Pantilimon',), ('Jurgen Wevers',), ('Kristof van Hout',), ('Nikola Zigic',), ('Pietro Marino',), ('Stefan Maierhofer',), ('Vanja Milinkovic-Savic',), ('Wojciech Kaczmarek',), ('Zeljko Kalac',)]\n",
            "[('Abdoul Ba',), ('Bogdan Milic',), ('Costel Pantilimon',), ('Jurgen Wevers',), ('Kristof van Hout',), ('Nikola Zigic',), ('Pietro Marino',), ('Stefan Maierhofer',), ('Vanja Milinkovic-Savic',), ('Wojciech Kaczmarek',), ('Zeljko Kalac',)]\n",
            "[('Abdoul Ba',), ('Bogdan Milic',), ('Costel Pantilimon',), ('Jurgen Wevers',), ('Kristof van Hout',), ('Nikola Zigic',), ('Pietro Marino',), ('Stefan Maierhofer',), ('Vanja Milinkovic-Savic',), ('Wojciech Kaczmarek',), ('Zeljko Kalac',)]\n",
            "[('Abdoul Ba',), ('Bogdan Milic',), ('Costel Pantilimon',), ('Jurgen Wevers',), ('Kristof van Hout',), ('Nikola Zigic',), ('Pietro Marino',), ('Stefan Maierhofer',), ('Vanja Milinkovic-Savic',), ('Wojciech Kaczmarek',), ('Zeljko Kalac',)]\n",
            "[('Abdoul Ba',), ('Bogdan Milic',), ('Costel Pantilimon',), ('Jurgen Wevers',), ('Kristof van Hout',), ('Nikola Zigic',), ('Pietro Marino',), ('Stefan Maierhofer',), ('Vanja Milinkovic-Savic',), ('Wojciech Kaczmarek',), ('Zeljko Kalac',)]\n",
            "[('Abdoul Ba',), ('Bogdan Milic',), ('Costel Pantilimon',), ('Jurgen Wevers',), ('Kristof van Hout',), ('Nikola Zigic',), ('Pietro Marino',), ('Stefan Maierhofer',), ('Vanja Milinkovic-Savic',), ('Wojciech Kaczmarek',), ('Zeljko Kalac',)]\n"
          ],
          "name": "stdout"
        }
      ]
    },
    {
      "cell_type": "markdown",
      "metadata": {
        "id": "-eIT5ma02NwI",
        "colab_type": "text"
      },
      "source": [
        "Each season's count of total home goals and away goals scored"
      ]
    },
    {
      "cell_type": "code",
      "metadata": {
        "id": "m_IxU0iqRv44",
        "colab_type": "code",
        "cellView": "code",
        "colab": {}
      },
      "source": [
        "match= Table('match', metadata, autoload = True, autoload_with = engine)\n",
        "\n",
        "# Total home_goal object\n",
        "Home_Tot = func.sum(match.columns.home_team_goal).label('Home Goals')\n",
        "Away_Tot = func.sum(match.columns.away_team_goal).label('Away Goals')\n",
        "\n",
        "# SELECT statement\n",
        "stmt3 = select([match.columns.season, Home_Tot, \n",
        "                Away_Tot, (Home_Tot - Away_Tot).label('Home - Away')])  \n",
        "# GROUP BY clause\n",
        "stmt3 = stmt3.group_by(match.columns.season)\n",
        "# ORDER BY clause\n",
        "stmt3_ordered= stmt3.order_by('Home Goals')   # Take care while ordering by an aliased columns"
      ],
      "execution_count": null,
      "outputs": []
    },
    {
      "cell_type": "code",
      "metadata": {
        "id": "IWIKR948TibH",
        "colab_type": "code",
        "colab": {
          "base_uri": "https://localhost:8080/",
          "height": 181
        },
        "outputId": "26240621-9577-49f1-834e-413af3430dc9"
      },
      "source": [
        "# Execution to get the ResultSet Object (list containing tuples)\n",
        "results = connection.execute(stmt3_ordered).fetchall()\n",
        "\n",
        "#Converting to DataFrame\n",
        "df3 = pd.DataFrame(results)\n",
        "df3.columns = results[0].keys()  # \n",
        "print(df3)"
      ],
      "execution_count": null,
      "outputs": [
        {
          "output_type": "stream",
          "text": [
            "      season  Home Goals  Away Goals  Home - Away\n",
            "0  2013/2014        4787        3602         1185\n",
            "1  2009/2010        4978        3654         1324\n",
            "2  2008/2009        5007        3665         1342\n",
            "3  2010/2011        5048        3701         1347\n",
            "4  2012/2013        5053        3986         1067\n",
            "5  2014/2015        5055        3842         1213\n",
            "6  2011/2012        5064        3683         1381\n",
            "7  2015/2016        5135        4027         1108\n"
          ],
          "name": "stdout"
        }
      ]
    },
    {
      "cell_type": "code",
      "metadata": {
        "id": "F7dQ3K6SRGwh",
        "colab_type": "code",
        "colab": {}
      },
      "source": [
        "stmt4 = select([match.columns.home_team_api_id, match.columns.away_team_api_id,\n",
        "                case([home_team_goal > away_team_goal, \"Win\"],\n",
        "                     [home_team_goal < away_team_goal, \"Loss\"],\n",
        "                     else_ = 'tie')\n",
        "                ])"
      ],
      "execution_count": null,
      "outputs": []
    }
  ]
}