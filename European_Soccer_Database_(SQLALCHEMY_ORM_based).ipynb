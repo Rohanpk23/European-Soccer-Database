{
  "nbformat": 4,
  "nbformat_minor": 0,
  "metadata": {
    "colab": {
      "name": "European Soccer Database (SQLALCHEMY ORM based).ipynb",
      "provenance": [],
      "mount_file_id": "19MQxTBwvbs5N9AsapYdsI7BBaJa_knA2",
      "authorship_tag": "ABX9TyNiQ/lkO8uczYJsUlUmWUd8",
      "include_colab_link": true
    },
    "kernelspec": {
      "name": "python3",
      "display_name": "Python 3"
    }
  },
  "cells": [
    {
      "cell_type": "markdown",
      "metadata": {
        "id": "view-in-github",
        "colab_type": "text"
      },
      "source": [
        "<a href=\"https://colab.research.google.com/github/Rohanpk23/European-Soccer-Database/blob/master/European_Soccer_Database_(SQLALCHEMY_ORM_based).ipynb\" target=\"_parent\"><img src=\"https://colab.research.google.com/assets/colab-badge.svg\" alt=\"Open In Colab\"/></a>"
      ]
    },
    {
      "cell_type": "markdown",
      "metadata": {
        "id": "u4BR2PylD5R1"
      },
      "source": [
        "Step 1 :- \n",
        "1.   First connect to the google drive\n",
        "2.   Make sure the sqlite file which will be used to retrive data is already stored in the google drive.\n",
        "1.   Mount the drive using google drive stream"
      ]
    },
    {
      "cell_type": "code",
      "metadata": {
        "id": "XntI30dcde8w",
        "outputId": "f4d88e72-b871-4bd4-c651-483618b53b24",
        "colab": {
          "base_uri": "https://localhost:8080/",
          "height": 35
        }
      },
      "source": [
        "#Connecting to google drive for interacting with the sqlite database file\n",
        "from google.colab import drive\n",
        "drive.mount('/content/drive')"
      ],
      "execution_count": 1,
      "outputs": [
        {
          "output_type": "stream",
          "text": [
            "Mounted at /content/drive\n"
          ],
          "name": "stdout"
        }
      ]
    },
    {
      "cell_type": "markdown",
      "metadata": {
        "id": "hV5gwAMaEADR"
      },
      "source": [
        "Step 2 :- Using the interface (engine) to connect with the sqlite database & listing all tables in the database file"
      ]
    },
    {
      "cell_type": "code",
      "metadata": {
        "id": "ApneNlateaTw"
      },
      "source": [
        "# Engine is the common interface to connect to the local database\n",
        "from sqlalchemy import create_engine, MetaData, Table, select, and_, or_, desc, func, case\n",
        "\n",
        "# Importing the Python libraries \n",
        "import pandas as pd\n",
        "import matplotlib.pyplot as plt\n",
        "\n",
        "# Gets the metadata of the tables\n",
        "metadata = MetaData() \n",
        "\n",
        "# Creating engine for the local file; sqlite:/// is the driver and football.sqite is the sqlite file\n",
        "engine = create_engine('sqlite:////content/drive/My Drive/Colab Notebooks/football.sqlite')\n",
        "\n",
        "# Connection established to access and manipulate data in database\n",
        "connection = engine.connect()"
      ],
      "execution_count": 2,
      "outputs": []
    },
    {
      "cell_type": "markdown",
      "metadata": {
        "id": "f-fS8kk0XZwv"
      },
      "source": [
        "Loading all the tables in schema"
      ]
    },
    {
      "cell_type": "code",
      "metadata": {
        "id": "nD6MwHz7e07V",
        "outputId": "64ae3470-bd73-40fd-95d2-bc78b5aaeb05",
        "colab": {
          "base_uri": "https://localhost:8080/",
          "height": 35
        }
      },
      "source": [
        "# All tables present in the database\n",
        "print(engine.table_names())"
      ],
      "execution_count": 3,
      "outputs": [
        {
          "output_type": "stream",
          "text": [
            "['Country', 'League', 'Match', 'Player', 'Player_Attributes', 'Team', 'Team_Attributes', 'sqlite_sequence']\n"
          ],
          "name": "stdout"
        }
      ]
    },
    {
      "cell_type": "code",
      "metadata": {
        "id": "0c9x7AC3ld9R",
        "outputId": "fbb02826-3490-4359-8dfa-2064e55f76cd",
        "colab": {
          "base_uri": "https://localhost:8080/",
          "height": 73
        }
      },
      "source": [
        "# Creating a reflection of the tables\n",
        "player = Table('player', metadata, autoload = True, autoload_with = engine)\n",
        "match = Table('match', metadata, autoload = True, autoload_with = engine)\n",
        "team = Table('team', metadata, autoload = True, autoload_with = engine)\n",
        "\n",
        "print(player.columns.keys())\n",
        "print(repr(player))"
      ],
      "execution_count": 4,
      "outputs": [
        {
          "output_type": "stream",
          "text": [
            "['id', 'player_api_id', 'player_name', 'player_fifa_api_id', 'birthday', 'height', 'weight']\n",
            "Table('player', MetaData(bind=None), Column('id', INTEGER(), table=<player>, primary_key=True, nullable=False), Column('player_api_id', INTEGER(), table=<player>), Column('player_name', TEXT(), table=<player>), Column('player_fifa_api_id', INTEGER(), table=<player>), Column('birthday', TEXT(), table=<player>), Column('height', INTEGER(), table=<player>), Column('weight', INTEGER(), table=<player>), schema=None)\n"
          ],
          "name": "stdout"
        }
      ]
    },
    {
      "cell_type": "markdown",
      "metadata": {
        "id": "tKRq49LN5-GA"
      },
      "source": [
        "A Warmup practice !!"
      ]
    },
    {
      "cell_type": "code",
      "metadata": {
        "id": "irCY1Xm-Y5La",
        "outputId": "4abd6598-7aeb-4180-9a7b-a34c5a4e4597",
        "colab": {
          "base_uri": "https://localhost:8080/",
          "height": 217
        }
      },
      "source": [
        "# Stmt2 object has the select statement\n",
        "stmt2 = select([player.columns.player_name, \n",
        "                player.columns.height, \n",
        "                player.columns.weight])\n",
        "\n",
        "# Where clause with a combination of two conditions \n",
        "stmt2 = stmt2.where(\n",
        "              and_(player.columns.height > 200, player.columns.weight > 200))\n",
        "\n",
        "# Connection.execute() method on stmt2 object gives the ResultProxy object and fetchall() method gives the ResultSet object which is a list\n",
        "results = connection.execute(stmt2).fetchmany(size = 50)\n",
        "\n",
        "# Getting the records. Data is retrieved column wise for every tuple stored in records\n",
        "for records in results:\n",
        "  print(records.player_name, records.height, records.weight)"
      ],
      "execution_count": 14,
      "outputs": [
        {
          "output_type": "stream",
          "text": [
            "Abdoul Ba 200.66 212\n",
            "Bogdan Milic 203.2 216\n",
            "Costel Pantilimon 203.2 212\n",
            "Jurgen Wevers 203.2 212\n",
            "Kristof van Hout 208.28 243\n",
            "Nikola Zigic 203.2 212\n",
            "Pietro Marino 203.2 209\n",
            "Stefan Maierhofer 203.2 216\n",
            "Vanja Milinkovic-Savic 203.2 203\n",
            "Wojciech Kaczmarek 200.66 218\n",
            "Zeljko Kalac 203.2 209\n"
          ],
          "name": "stdout"
        }
      ]
    },
    {
      "cell_type": "code",
      "metadata": {
        "id": "keCnj778AnTj",
        "outputId": "5ff05227-bcdb-4b46-d0b8-263c3a6533ce",
        "colab": {
          "base_uri": "https://localhost:8080/",
          "height": 237
        }
      },
      "source": [
        "# This retrieves tuple wise \n",
        "for records in results:\n",
        "  print(results[:20]) "
      ],
      "execution_count": 6,
      "outputs": [
        {
          "output_type": "stream",
          "text": [
            "[('Abdoul Ba',), ('Bogdan Milic',), ('Costel Pantilimon',), ('Jurgen Wevers',), ('Kristof van Hout',), ('Nikola Zigic',), ('Pietro Marino',), ('Stefan Maierhofer',), ('Vanja Milinkovic-Savic',), ('Wojciech Kaczmarek',), ('Zeljko Kalac',)]\n",
            "[('Abdoul Ba',), ('Bogdan Milic',), ('Costel Pantilimon',), ('Jurgen Wevers',), ('Kristof van Hout',), ('Nikola Zigic',), ('Pietro Marino',), ('Stefan Maierhofer',), ('Vanja Milinkovic-Savic',), ('Wojciech Kaczmarek',), ('Zeljko Kalac',)]\n",
            "[('Abdoul Ba',), ('Bogdan Milic',), ('Costel Pantilimon',), ('Jurgen Wevers',), ('Kristof van Hout',), ('Nikola Zigic',), ('Pietro Marino',), ('Stefan Maierhofer',), ('Vanja Milinkovic-Savic',), ('Wojciech Kaczmarek',), ('Zeljko Kalac',)]\n",
            "[('Abdoul Ba',), ('Bogdan Milic',), ('Costel Pantilimon',), ('Jurgen Wevers',), ('Kristof van Hout',), ('Nikola Zigic',), ('Pietro Marino',), ('Stefan Maierhofer',), ('Vanja Milinkovic-Savic',), ('Wojciech Kaczmarek',), ('Zeljko Kalac',)]\n",
            "[('Abdoul Ba',), ('Bogdan Milic',), ('Costel Pantilimon',), ('Jurgen Wevers',), ('Kristof van Hout',), ('Nikola Zigic',), ('Pietro Marino',), ('Stefan Maierhofer',), ('Vanja Milinkovic-Savic',), ('Wojciech Kaczmarek',), ('Zeljko Kalac',)]\n",
            "[('Abdoul Ba',), ('Bogdan Milic',), ('Costel Pantilimon',), ('Jurgen Wevers',), ('Kristof van Hout',), ('Nikola Zigic',), ('Pietro Marino',), ('Stefan Maierhofer',), ('Vanja Milinkovic-Savic',), ('Wojciech Kaczmarek',), ('Zeljko Kalac',)]\n",
            "[('Abdoul Ba',), ('Bogdan Milic',), ('Costel Pantilimon',), ('Jurgen Wevers',), ('Kristof van Hout',), ('Nikola Zigic',), ('Pietro Marino',), ('Stefan Maierhofer',), ('Vanja Milinkovic-Savic',), ('Wojciech Kaczmarek',), ('Zeljko Kalac',)]\n",
            "[('Abdoul Ba',), ('Bogdan Milic',), ('Costel Pantilimon',), ('Jurgen Wevers',), ('Kristof van Hout',), ('Nikola Zigic',), ('Pietro Marino',), ('Stefan Maierhofer',), ('Vanja Milinkovic-Savic',), ('Wojciech Kaczmarek',), ('Zeljko Kalac',)]\n",
            "[('Abdoul Ba',), ('Bogdan Milic',), ('Costel Pantilimon',), ('Jurgen Wevers',), ('Kristof van Hout',), ('Nikola Zigic',), ('Pietro Marino',), ('Stefan Maierhofer',), ('Vanja Milinkovic-Savic',), ('Wojciech Kaczmarek',), ('Zeljko Kalac',)]\n",
            "[('Abdoul Ba',), ('Bogdan Milic',), ('Costel Pantilimon',), ('Jurgen Wevers',), ('Kristof van Hout',), ('Nikola Zigic',), ('Pietro Marino',), ('Stefan Maierhofer',), ('Vanja Milinkovic-Savic',), ('Wojciech Kaczmarek',), ('Zeljko Kalac',)]\n",
            "[('Abdoul Ba',), ('Bogdan Milic',), ('Costel Pantilimon',), ('Jurgen Wevers',), ('Kristof van Hout',), ('Nikola Zigic',), ('Pietro Marino',), ('Stefan Maierhofer',), ('Vanja Milinkovic-Savic',), ('Wojciech Kaczmarek',), ('Zeljko Kalac',)]\n"
          ],
          "name": "stdout"
        }
      ]
    },
    {
      "cell_type": "markdown",
      "metadata": {
        "id": "-eIT5ma02NwI"
      },
      "source": [
        "Each season's count of :-\n",
        "\n",
        "*   Goals scored by teams in their home grounds\n",
        "*   Goals scored by teams in their overseas games\n",
        "\n"
      ]
    },
    {
      "cell_type": "code",
      "metadata": {
        "id": "m_IxU0iqRv44",
        "cellView": "code"
      },
      "source": [
        "# SUM aggregation\n",
        "Home_Tot = func.sum(match.columns.home_team_goal).label('Home Goals')\n",
        "Away_Tot = func.sum(match.columns.away_team_goal).label('Away Goals')\n",
        "\n",
        "# SUM aggregation included in SELECT clause\n",
        "stmt3 = select([match.columns.season, Home_Tot, \n",
        "                Away_Tot, (Home_Tot - Away_Tot).label('Diff')])  \n",
        "\n",
        "# GROUP BY clause\n",
        "stmt3 = stmt3.group_by(match.columns.season)\n",
        "\n",
        "# ORDER BY clause\n",
        "stmt3_ordered= stmt3.order_by('Home Goals')   # Take care while ordering by an aliased columns"
      ],
      "execution_count": 15,
      "outputs": []
    },
    {
      "cell_type": "code",
      "metadata": {
        "id": "IWIKR948TibH",
        "outputId": "9f4d0451-7e20-4861-cebf-4251c0b91cf6",
        "colab": {
          "base_uri": "https://localhost:8080/",
          "height": 300
        }
      },
      "source": [
        "# Executing gives ResultSet Object (list containing tuples/rows)\n",
        "results = connection.execute(stmt3_ordered).fetchall()\n",
        "\n",
        "# Converting the ResultSet to a DataFrame\n",
        "df3 = pd.DataFrame(results)\n",
        "df3.columns = results[0].keys()\n",
        "df3"
      ],
      "execution_count": 16,
      "outputs": [
        {
          "output_type": "execute_result",
          "data": {
            "text/html": [
              "<div>\n",
              "<style scoped>\n",
              "    .dataframe tbody tr th:only-of-type {\n",
              "        vertical-align: middle;\n",
              "    }\n",
              "\n",
              "    .dataframe tbody tr th {\n",
              "        vertical-align: top;\n",
              "    }\n",
              "\n",
              "    .dataframe thead th {\n",
              "        text-align: right;\n",
              "    }\n",
              "</style>\n",
              "<table border=\"1\" class=\"dataframe\">\n",
              "  <thead>\n",
              "    <tr style=\"text-align: right;\">\n",
              "      <th></th>\n",
              "      <th>season</th>\n",
              "      <th>Home Goals</th>\n",
              "      <th>Away Goals</th>\n",
              "      <th>Diff</th>\n",
              "    </tr>\n",
              "  </thead>\n",
              "  <tbody>\n",
              "    <tr>\n",
              "      <th>0</th>\n",
              "      <td>2013/2014</td>\n",
              "      <td>4787</td>\n",
              "      <td>3602</td>\n",
              "      <td>1185</td>\n",
              "    </tr>\n",
              "    <tr>\n",
              "      <th>1</th>\n",
              "      <td>2009/2010</td>\n",
              "      <td>4978</td>\n",
              "      <td>3654</td>\n",
              "      <td>1324</td>\n",
              "    </tr>\n",
              "    <tr>\n",
              "      <th>2</th>\n",
              "      <td>2008/2009</td>\n",
              "      <td>5007</td>\n",
              "      <td>3665</td>\n",
              "      <td>1342</td>\n",
              "    </tr>\n",
              "    <tr>\n",
              "      <th>3</th>\n",
              "      <td>2010/2011</td>\n",
              "      <td>5048</td>\n",
              "      <td>3701</td>\n",
              "      <td>1347</td>\n",
              "    </tr>\n",
              "    <tr>\n",
              "      <th>4</th>\n",
              "      <td>2012/2013</td>\n",
              "      <td>5053</td>\n",
              "      <td>3986</td>\n",
              "      <td>1067</td>\n",
              "    </tr>\n",
              "    <tr>\n",
              "      <th>5</th>\n",
              "      <td>2014/2015</td>\n",
              "      <td>5055</td>\n",
              "      <td>3842</td>\n",
              "      <td>1213</td>\n",
              "    </tr>\n",
              "    <tr>\n",
              "      <th>6</th>\n",
              "      <td>2011/2012</td>\n",
              "      <td>5064</td>\n",
              "      <td>3683</td>\n",
              "      <td>1381</td>\n",
              "    </tr>\n",
              "    <tr>\n",
              "      <th>7</th>\n",
              "      <td>2015/2016</td>\n",
              "      <td>5135</td>\n",
              "      <td>4027</td>\n",
              "      <td>1108</td>\n",
              "    </tr>\n",
              "  </tbody>\n",
              "</table>\n",
              "</div>"
            ],
            "text/plain": [
              "      season  Home Goals  Away Goals  Diff\n",
              "0  2013/2014        4787        3602  1185\n",
              "1  2009/2010        4978        3654  1324\n",
              "2  2008/2009        5007        3665  1342\n",
              "3  2010/2011        5048        3701  1347\n",
              "4  2012/2013        5053        3986  1067\n",
              "5  2014/2015        5055        3842  1213\n",
              "6  2011/2012        5064        3683  1381\n",
              "7  2015/2016        5135        4027  1108"
            ]
          },
          "metadata": {
            "tags": []
          },
          "execution_count": 16
        }
      ]
    },
    {
      "cell_type": "markdown",
      "metadata": {
        "id": "-2yZyMkKQNfu"
      },
      "source": [
        "1. Teams performing best before their home and overseas crowds"
      ]
    },
    {
      "cell_type": "markdown",
      "metadata": {
        "id": "5tV6CyZU6H0P"
      },
      "source": [
        "1.1. SQL statements to retreive data "
      ]
    },
    {
      "cell_type": "code",
      "metadata": {
        "id": "r93CLnxXcqGa"
      },
      "source": [
        "# CASE statement\n",
        "cased_H= case(\n",
        "             [\n",
        "              (match.c.home_team_goal > match.c.away_team_goal, 'Win'),\n",
        "              (match.c.home_team_goal < match.c.away_team_goal, 'Defeat')\n",
        "             ],\n",
        "              else_ = 'Tie'\n",
        "            ).label('Outcome')\n",
        "\n",
        "# CASE statement included in the select clause\n",
        "stmt_H = select([match.columns.season, \n",
        "                 match.columns.stage,\n",
        "                 team.columns.team_long_name.label('Team'), \n",
        "                 match.columns.home_team_goal.label('Score'),\n",
        "                 match.columns.away_team_goal.label('Opponent Score'),\n",
        "                 cased_H])\n",
        "\n",
        "# INNER JOIN CLAUSE\n",
        "stmt_H_Teams = stmt_H.select_from(\n",
        "                               match.join(team, match.c.home_team_api_id == team.c.team_api_id)\n",
        "                              )  \n",
        "# Sorting based on Score in descending order\n",
        "stmt_H_Teams = stmt_H_Teams.order_by(desc('Score')) "
      ],
      "execution_count": 17,
      "outputs": []
    },
    {
      "cell_type": "markdown",
      "metadata": {
        "id": "NMgrQQrK6LKt"
      },
      "source": [
        "1.2. Execution and conversion to DataFrame"
      ]
    },
    {
      "cell_type": "code",
      "metadata": {
        "id": "GbdHyqTJ4e_q",
        "outputId": "016c4930-7ea9-4b6e-ea88-7a101a5c041b",
        "colab": {
          "base_uri": "https://localhost:8080/",
          "height": 731
        }
      },
      "source": [
        "# Executing gives ResultSet Object (list containing tuples/rows)\n",
        "result_H= connection.execute(stmt_H_Teams).fetchmany(size = 20)\n",
        "\n",
        "# Converting the ResultSet to a DataFrame\n",
        "df_H = pd.DataFrame(result_H)\n",
        "df_H.columns = result_H[0].keys()\n",
        "print('\\n------------------------- Top 20 Home Perfomers ----------------------------\\n')\n",
        "df_H"
      ],
      "execution_count": 18,
      "outputs": [
        {
          "output_type": "stream",
          "text": [
            "\n",
            "------------------------- Top 20 Home Perfomers ----------------------------\n",
            "\n"
          ],
          "name": "stdout"
        },
        {
          "output_type": "execute_result",
          "data": {
            "text/html": [
              "<div>\n",
              "<style scoped>\n",
              "    .dataframe tbody tr th:only-of-type {\n",
              "        vertical-align: middle;\n",
              "    }\n",
              "\n",
              "    .dataframe tbody tr th {\n",
              "        vertical-align: top;\n",
              "    }\n",
              "\n",
              "    .dataframe thead th {\n",
              "        text-align: right;\n",
              "    }\n",
              "</style>\n",
              "<table border=\"1\" class=\"dataframe\">\n",
              "  <thead>\n",
              "    <tr style=\"text-align: right;\">\n",
              "      <th></th>\n",
              "      <th>season</th>\n",
              "      <th>stage</th>\n",
              "      <th>Team</th>\n",
              "      <th>Score</th>\n",
              "      <th>Opponent Score</th>\n",
              "      <th>Outcome</th>\n",
              "    </tr>\n",
              "  </thead>\n",
              "  <tbody>\n",
              "    <tr>\n",
              "      <th>0</th>\n",
              "      <td>2010/2011</td>\n",
              "      <td>10</td>\n",
              "      <td>PSV</td>\n",
              "      <td>10</td>\n",
              "      <td>0</td>\n",
              "      <td>Win</td>\n",
              "    </tr>\n",
              "    <tr>\n",
              "      <th>1</th>\n",
              "      <td>2015/2016</td>\n",
              "      <td>16</td>\n",
              "      <td>Real Madrid CF</td>\n",
              "      <td>10</td>\n",
              "      <td>2</td>\n",
              "      <td>Win</td>\n",
              "    </tr>\n",
              "    <tr>\n",
              "      <th>2</th>\n",
              "      <td>2009/2010</td>\n",
              "      <td>13</td>\n",
              "      <td>Tottenham Hotspur</td>\n",
              "      <td>9</td>\n",
              "      <td>1</td>\n",
              "      <td>Win</td>\n",
              "    </tr>\n",
              "    <tr>\n",
              "      <th>3</th>\n",
              "      <td>2012/2013</td>\n",
              "      <td>27</td>\n",
              "      <td>FC Bayern Munich</td>\n",
              "      <td>9</td>\n",
              "      <td>2</td>\n",
              "      <td>Win</td>\n",
              "    </tr>\n",
              "    <tr>\n",
              "      <th>4</th>\n",
              "      <td>2010/2011</td>\n",
              "      <td>11</td>\n",
              "      <td>Celtic</td>\n",
              "      <td>9</td>\n",
              "      <td>0</td>\n",
              "      <td>Win</td>\n",
              "    </tr>\n",
              "    <tr>\n",
              "      <th>5</th>\n",
              "      <td>2014/2015</td>\n",
              "      <td>29</td>\n",
              "      <td>Real Madrid CF</td>\n",
              "      <td>9</td>\n",
              "      <td>1</td>\n",
              "      <td>Win</td>\n",
              "    </tr>\n",
              "    <tr>\n",
              "      <th>6</th>\n",
              "      <td>2009/2010</td>\n",
              "      <td>38</td>\n",
              "      <td>Chelsea</td>\n",
              "      <td>8</td>\n",
              "      <td>0</td>\n",
              "      <td>Win</td>\n",
              "    </tr>\n",
              "    <tr>\n",
              "      <th>7</th>\n",
              "      <td>2011/2012</td>\n",
              "      <td>3</td>\n",
              "      <td>Manchester United</td>\n",
              "      <td>8</td>\n",
              "      <td>2</td>\n",
              "      <td>Win</td>\n",
              "    </tr>\n",
              "    <tr>\n",
              "      <th>8</th>\n",
              "      <td>2012/2013</td>\n",
              "      <td>18</td>\n",
              "      <td>Chelsea</td>\n",
              "      <td>8</td>\n",
              "      <td>0</td>\n",
              "      <td>Win</td>\n",
              "    </tr>\n",
              "    <tr>\n",
              "      <th>9</th>\n",
              "      <td>2014/2015</td>\n",
              "      <td>8</td>\n",
              "      <td>Southampton</td>\n",
              "      <td>8</td>\n",
              "      <td>0</td>\n",
              "      <td>Win</td>\n",
              "    </tr>\n",
              "    <tr>\n",
              "      <th>10</th>\n",
              "      <td>2014/2015</td>\n",
              "      <td>21</td>\n",
              "      <td>FC Bayern Munich</td>\n",
              "      <td>8</td>\n",
              "      <td>0</td>\n",
              "      <td>Win</td>\n",
              "    </tr>\n",
              "    <tr>\n",
              "      <th>11</th>\n",
              "      <td>2009/2010</td>\n",
              "      <td>3</td>\n",
              "      <td>SL Benfica</td>\n",
              "      <td>8</td>\n",
              "      <td>1</td>\n",
              "      <td>Win</td>\n",
              "    </tr>\n",
              "    <tr>\n",
              "      <th>12</th>\n",
              "      <td>2015/2016</td>\n",
              "      <td>17</td>\n",
              "      <td>Celtic</td>\n",
              "      <td>8</td>\n",
              "      <td>1</td>\n",
              "      <td>Win</td>\n",
              "    </tr>\n",
              "    <tr>\n",
              "      <th>13</th>\n",
              "      <td>2010/2011</td>\n",
              "      <td>38</td>\n",
              "      <td>Real Madrid CF</td>\n",
              "      <td>8</td>\n",
              "      <td>1</td>\n",
              "      <td>Win</td>\n",
              "    </tr>\n",
              "    <tr>\n",
              "      <th>14</th>\n",
              "      <td>2011/2012</td>\n",
              "      <td>4</td>\n",
              "      <td>FC Barcelona</td>\n",
              "      <td>8</td>\n",
              "      <td>0</td>\n",
              "      <td>Win</td>\n",
              "    </tr>\n",
              "    <tr>\n",
              "      <th>15</th>\n",
              "      <td>2008/2009</td>\n",
              "      <td>9</td>\n",
              "      <td>RSC Anderlecht</td>\n",
              "      <td>7</td>\n",
              "      <td>1</td>\n",
              "      <td>Win</td>\n",
              "    </tr>\n",
              "    <tr>\n",
              "      <th>16</th>\n",
              "      <td>2010/2011</td>\n",
              "      <td>17</td>\n",
              "      <td>Standard de Liège</td>\n",
              "      <td>7</td>\n",
              "      <td>0</td>\n",
              "      <td>Win</td>\n",
              "    </tr>\n",
              "    <tr>\n",
              "      <th>17</th>\n",
              "      <td>2015/2016</td>\n",
              "      <td>6</td>\n",
              "      <td>Club Brugge KV</td>\n",
              "      <td>7</td>\n",
              "      <td>1</td>\n",
              "      <td>Win</td>\n",
              "    </tr>\n",
              "    <tr>\n",
              "      <th>18</th>\n",
              "      <td>2009/2010</td>\n",
              "      <td>22</td>\n",
              "      <td>Chelsea</td>\n",
              "      <td>7</td>\n",
              "      <td>2</td>\n",
              "      <td>Win</td>\n",
              "    </tr>\n",
              "    <tr>\n",
              "      <th>19</th>\n",
              "      <td>2009/2010</td>\n",
              "      <td>32</td>\n",
              "      <td>Chelsea</td>\n",
              "      <td>7</td>\n",
              "      <td>1</td>\n",
              "      <td>Win</td>\n",
              "    </tr>\n",
              "  </tbody>\n",
              "</table>\n",
              "</div>"
            ],
            "text/plain": [
              "       season  stage               Team  Score  Opponent Score Outcome\n",
              "0   2010/2011     10                PSV     10               0     Win\n",
              "1   2015/2016     16     Real Madrid CF     10               2     Win\n",
              "2   2009/2010     13  Tottenham Hotspur      9               1     Win\n",
              "3   2012/2013     27   FC Bayern Munich      9               2     Win\n",
              "4   2010/2011     11             Celtic      9               0     Win\n",
              "5   2014/2015     29     Real Madrid CF      9               1     Win\n",
              "6   2009/2010     38            Chelsea      8               0     Win\n",
              "7   2011/2012      3  Manchester United      8               2     Win\n",
              "8   2012/2013     18            Chelsea      8               0     Win\n",
              "9   2014/2015      8        Southampton      8               0     Win\n",
              "10  2014/2015     21   FC Bayern Munich      8               0     Win\n",
              "11  2009/2010      3         SL Benfica      8               1     Win\n",
              "12  2015/2016     17             Celtic      8               1     Win\n",
              "13  2010/2011     38     Real Madrid CF      8               1     Win\n",
              "14  2011/2012      4       FC Barcelona      8               0     Win\n",
              "15  2008/2009      9     RSC Anderlecht      7               1     Win\n",
              "16  2010/2011     17  Standard de Liège      7               0     Win\n",
              "17  2015/2016      6     Club Brugge KV      7               1     Win\n",
              "18  2009/2010     22            Chelsea      7               2     Win\n",
              "19  2009/2010     32            Chelsea      7               1     Win"
            ]
          },
          "metadata": {
            "tags": []
          },
          "execution_count": 18
        }
      ]
    },
    {
      "cell_type": "markdown",
      "metadata": {
        "id": "IUrkxJah1CYf"
      },
      "source": [
        "2. Teams performing best before an overseas crowd"
      ]
    },
    {
      "cell_type": "markdown",
      "metadata": {
        "id": "TUTIQGFN7Qgw"
      },
      "source": [
        "2.1. SQL statements to retrieve data"
      ]
    },
    {
      "cell_type": "code",
      "metadata": {
        "id": "8TfOVBUOapOx"
      },
      "source": [
        "# CASE statement\n",
        "cased_A = case(\n",
        "             [\n",
        "              (match.c.away_team_goal > match.c.home_team_goal, 'Win'),\n",
        "              (match.c.away_team_goal < match.c.home_team_goal, 'Loss')\n",
        "             ],\n",
        "              else_ = 'Tie'\n",
        "            ).label('Outcome')\n",
        "\n",
        "# CASE statement included in the select clause\n",
        "stmt_A = select([match.columns.season, \n",
        "                 match.columns.stage,\n",
        "                 team.columns.team_long_name.label('Team'), \n",
        "                 match.columns.away_team_goal.label('Score'),\n",
        "                 match.columns.home_team_goal.label('Opponent Score'),\n",
        "                 cased_A])\n",
        "\n",
        "# INNER JOIN CLAUSE\n",
        "stmt_A_Teams = stmt_A.select_from(\n",
        "                               match.join(team, match.c.away_team_api_id == team.c.team_api_id)\n",
        "                              )  \n",
        "\n",
        "# Sorting based on Score in descending order\n",
        "stmt_A_Teams = stmt_A_Teams.order_by(desc('Score')) "
      ],
      "execution_count": 11,
      "outputs": []
    },
    {
      "cell_type": "markdown",
      "metadata": {
        "id": "lwEgb5SX7C8K"
      },
      "source": [
        "2.2. Execution and conversion to DataFrame"
      ]
    },
    {
      "cell_type": "code",
      "metadata": {
        "id": "522xiha1OV2G",
        "outputId": "cb96f948-e963-44d0-db10-06d248376077",
        "colab": {
          "base_uri": "https://localhost:8080/",
          "height": 731
        }
      },
      "source": [
        "# Executing gives ResultSet Object (list containing tuples/rows)\n",
        "result_A = connection.execute(stmt_A_Teams).fetchmany(size = 20)\n",
        "\n",
        "# Converting the ResultSet to a DataFrame\n",
        "df_A = pd.DataFrame(result_A)\n",
        "df_A.columns = result_A[0].keys()\n",
        "print('\\n------------------------- Top 20 Overseas Perfomers ------------------------\\n')\n",
        "\n",
        "df_A"
      ],
      "execution_count": 12,
      "outputs": [
        {
          "output_type": "stream",
          "text": [
            "\n",
            "------------------------- Top 20 Overseas Perfomers ------------------------\n",
            "\n"
          ],
          "name": "stdout"
        },
        {
          "output_type": "execute_result",
          "data": {
            "text/html": [
              "<div>\n",
              "<style scoped>\n",
              "    .dataframe tbody tr th:only-of-type {\n",
              "        vertical-align: middle;\n",
              "    }\n",
              "\n",
              "    .dataframe tbody tr th {\n",
              "        vertical-align: top;\n",
              "    }\n",
              "\n",
              "    .dataframe thead th {\n",
              "        text-align: right;\n",
              "    }\n",
              "</style>\n",
              "<table border=\"1\" class=\"dataframe\">\n",
              "  <thead>\n",
              "    <tr style=\"text-align: right;\">\n",
              "      <th></th>\n",
              "      <th>season</th>\n",
              "      <th>stage</th>\n",
              "      <th>Team</th>\n",
              "      <th>Score</th>\n",
              "      <th>Opponent Score</th>\n",
              "      <th>Outcome</th>\n",
              "    </tr>\n",
              "  </thead>\n",
              "  <tbody>\n",
              "    <tr>\n",
              "      <th>0</th>\n",
              "      <td>2015/2016</td>\n",
              "      <td>30</td>\n",
              "      <td>Paris Saint-Germain</td>\n",
              "      <td>9</td>\n",
              "      <td>0</td>\n",
              "      <td>Win</td>\n",
              "    </tr>\n",
              "    <tr>\n",
              "      <th>1</th>\n",
              "      <td>2010/2011</td>\n",
              "      <td>33</td>\n",
              "      <td>FC Bayern Munich</td>\n",
              "      <td>8</td>\n",
              "      <td>1</td>\n",
              "      <td>Win</td>\n",
              "    </tr>\n",
              "    <tr>\n",
              "      <th>2</th>\n",
              "      <td>2010/2011</td>\n",
              "      <td>12</td>\n",
              "      <td>FC Barcelona</td>\n",
              "      <td>8</td>\n",
              "      <td>0</td>\n",
              "      <td>Win</td>\n",
              "    </tr>\n",
              "    <tr>\n",
              "      <th>3</th>\n",
              "      <td>2014/2015</td>\n",
              "      <td>35</td>\n",
              "      <td>FC Barcelona</td>\n",
              "      <td>8</td>\n",
              "      <td>0</td>\n",
              "      <td>Win</td>\n",
              "    </tr>\n",
              "    <tr>\n",
              "      <th>4</th>\n",
              "      <td>2014/2015</td>\n",
              "      <td>4</td>\n",
              "      <td>Real Madrid CF</td>\n",
              "      <td>8</td>\n",
              "      <td>2</td>\n",
              "      <td>Win</td>\n",
              "    </tr>\n",
              "    <tr>\n",
              "      <th>5</th>\n",
              "      <td>2015/2016</td>\n",
              "      <td>34</td>\n",
              "      <td>FC Barcelona</td>\n",
              "      <td>8</td>\n",
              "      <td>0</td>\n",
              "      <td>Win</td>\n",
              "    </tr>\n",
              "    <tr>\n",
              "      <th>6</th>\n",
              "      <td>2012/2013</td>\n",
              "      <td>19</td>\n",
              "      <td>Club Brugge KV</td>\n",
              "      <td>7</td>\n",
              "      <td>1</td>\n",
              "      <td>Win</td>\n",
              "    </tr>\n",
              "    <tr>\n",
              "      <th>7</th>\n",
              "      <td>2014/2015</td>\n",
              "      <td>22</td>\n",
              "      <td>KV Kortrijk</td>\n",
              "      <td>7</td>\n",
              "      <td>1</td>\n",
              "      <td>Win</td>\n",
              "    </tr>\n",
              "    <tr>\n",
              "      <th>8</th>\n",
              "      <td>2014/2015</td>\n",
              "      <td>11</td>\n",
              "      <td>OGC Nice</td>\n",
              "      <td>7</td>\n",
              "      <td>2</td>\n",
              "      <td>Win</td>\n",
              "    </tr>\n",
              "    <tr>\n",
              "      <th>9</th>\n",
              "      <td>2013/2014</td>\n",
              "      <td>15</td>\n",
              "      <td>FC Bayern Munich</td>\n",
              "      <td>7</td>\n",
              "      <td>0</td>\n",
              "      <td>Win</td>\n",
              "    </tr>\n",
              "    <tr>\n",
              "      <th>10</th>\n",
              "      <td>2010/2011</td>\n",
              "      <td>27</td>\n",
              "      <td>Udinese</td>\n",
              "      <td>7</td>\n",
              "      <td>0</td>\n",
              "      <td>Win</td>\n",
              "    </tr>\n",
              "    <tr>\n",
              "      <th>11</th>\n",
              "      <td>2013/2014</td>\n",
              "      <td>4</td>\n",
              "      <td>Inter</td>\n",
              "      <td>7</td>\n",
              "      <td>0</td>\n",
              "      <td>Win</td>\n",
              "    </tr>\n",
              "    <tr>\n",
              "      <th>12</th>\n",
              "      <td>2011/2012</td>\n",
              "      <td>36</td>\n",
              "      <td>FC Barcelona</td>\n",
              "      <td>7</td>\n",
              "      <td>0</td>\n",
              "      <td>Win</td>\n",
              "    </tr>\n",
              "    <tr>\n",
              "      <th>13</th>\n",
              "      <td>2008/2009</td>\n",
              "      <td>9</td>\n",
              "      <td>FC Zürich</td>\n",
              "      <td>7</td>\n",
              "      <td>1</td>\n",
              "      <td>Win</td>\n",
              "    </tr>\n",
              "    <tr>\n",
              "      <th>14</th>\n",
              "      <td>2009/2010</td>\n",
              "      <td>14</td>\n",
              "      <td>BSC Young Boys</td>\n",
              "      <td>7</td>\n",
              "      <td>1</td>\n",
              "      <td>Win</td>\n",
              "    </tr>\n",
              "    <tr>\n",
              "      <th>15</th>\n",
              "      <td>2015/2016</td>\n",
              "      <td>28</td>\n",
              "      <td>FC Basel</td>\n",
              "      <td>7</td>\n",
              "      <td>0</td>\n",
              "      <td>Win</td>\n",
              "    </tr>\n",
              "    <tr>\n",
              "      <th>16</th>\n",
              "      <td>2008/2009</td>\n",
              "      <td>23</td>\n",
              "      <td>SV Zulte-Waregem</td>\n",
              "      <td>6</td>\n",
              "      <td>0</td>\n",
              "      <td>Win</td>\n",
              "    </tr>\n",
              "    <tr>\n",
              "      <th>17</th>\n",
              "      <td>2012/2013</td>\n",
              "      <td>16</td>\n",
              "      <td>Club Brugge KV</td>\n",
              "      <td>6</td>\n",
              "      <td>2</td>\n",
              "      <td>Win</td>\n",
              "    </tr>\n",
              "    <tr>\n",
              "      <th>18</th>\n",
              "      <td>2012/2013</td>\n",
              "      <td>23</td>\n",
              "      <td>Sporting Lokeren</td>\n",
              "      <td>6</td>\n",
              "      <td>2</td>\n",
              "      <td>Win</td>\n",
              "    </tr>\n",
              "    <tr>\n",
              "      <th>19</th>\n",
              "      <td>2012/2013</td>\n",
              "      <td>4</td>\n",
              "      <td>Standard de Liège</td>\n",
              "      <td>6</td>\n",
              "      <td>2</td>\n",
              "      <td>Win</td>\n",
              "    </tr>\n",
              "  </tbody>\n",
              "</table>\n",
              "</div>"
            ],
            "text/plain": [
              "       season  stage                 Team  Score  Opponent Score Outcome\n",
              "0   2015/2016     30  Paris Saint-Germain      9               0     Win\n",
              "1   2010/2011     33     FC Bayern Munich      8               1     Win\n",
              "2   2010/2011     12         FC Barcelona      8               0     Win\n",
              "3   2014/2015     35         FC Barcelona      8               0     Win\n",
              "4   2014/2015      4       Real Madrid CF      8               2     Win\n",
              "5   2015/2016     34         FC Barcelona      8               0     Win\n",
              "6   2012/2013     19       Club Brugge KV      7               1     Win\n",
              "7   2014/2015     22          KV Kortrijk      7               1     Win\n",
              "8   2014/2015     11             OGC Nice      7               2     Win\n",
              "9   2013/2014     15     FC Bayern Munich      7               0     Win\n",
              "10  2010/2011     27              Udinese      7               0     Win\n",
              "11  2013/2014      4                Inter      7               0     Win\n",
              "12  2011/2012     36         FC Barcelona      7               0     Win\n",
              "13  2008/2009      9            FC Zürich      7               1     Win\n",
              "14  2009/2010     14       BSC Young Boys      7               1     Win\n",
              "15  2015/2016     28             FC Basel      7               0     Win\n",
              "16  2008/2009     23     SV Zulte-Waregem      6               0     Win\n",
              "17  2012/2013     16       Club Brugge KV      6               2     Win\n",
              "18  2012/2013     23     Sporting Lokeren      6               2     Win\n",
              "19  2012/2013      4    Standard de Liège      6               2     Win"
            ]
          },
          "metadata": {
            "tags": []
          },
          "execution_count": 12
        }
      ]
    }
  ]
}